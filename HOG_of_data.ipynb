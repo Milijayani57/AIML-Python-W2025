{
 "cells": [
  {
   "cell_type": "code",
   "execution_count": 2,
   "metadata": {},
   "outputs": [
    {
     "data": {
      "image/png": "[encoded data removed]",
      "text/plain": [
       "<Figure size 800x400 with 2 Axes>"
      ]
     },
     "metadata": {},
     "output_type": "display_data"
    }
   ],
   "source": [
    "import numpy as np\n",
    "import matplotlib.pyplot as plt\n",
    "import tensorflow as tf\n",
    "from tensorflow import keras\n",
    "\n",
    "# Load MNIST dataset\n",
    "(x_train, y_train), (x_test, y_test) = keras.datasets.mnist.load_data()\n",
    "\n",
    "# Select an image\n",
    "image = x_train[1].astype(np.float32)  # Convert to float for gradient calculations\n",
    "\n",
    "# Step 1: Compute gradients using Sobel filter\n",
    "Gx = np.zeros_like(image)  # Initialize gradient matrices\n",
    "Gy = np.zeros_like(image)\n",
    "\n",
    "# Sobel operators for gradient computation\n",
    "sobel_x = np.array([[-1, 0, 1], [-2, 0, 2], [-1, 0, 1]])\n",
    "sobel_y = np.array([[1, 2, 1], [0, 0, 0], [-1, -2, -1]])\n",
    "\n",
    "# Apply Sobel filters (ignoring border pixels)\n",
    "for i in range(1, image.shape[0] - 1):\n",
    "    for j in range(1, image.shape[1] - 1):\n",
    "        Gx[i, j] = np.sum(sobel_x * image[i-1:i+2, j-1:j+2])\n",
    "        Gy[i, j] = np.sum(sobel_y * image[i-1:i+2, j-1:j+2])\n",
    "\n",
    "# Step 2: Compute gradient magnitude and orientation\n",
    "magnitude = np.sqrt(Gx**2 + Gy**2)\n",
    "orientation = np.arctan2(Gy, Gx) * (180 / np.pi)  # Convert to degrees\n",
    "\n",
    "# Normalize orientations to be in range [0, 180]\n",
    "orientation = np.mod(orientation, 180)\n",
    "\n",
    "# Step 3: Compute HOG features (Dividing image into 4x4 cells and creating histograms)\n",
    "cell_size = 4  # Define cell size\n",
    "orient_bins = 9  # Number of orientation bins (0 to 180 degrees)\n",
    "hog_image = np.zeros_like(image)  # To visualize HOG features\n",
    "\n",
    "# Iterate through the image in non-overlapping 4x4 cells\n",
    "for i in range(0, image.shape[0], cell_size):\n",
    "    for j in range(0, image.shape[1], cell_size):\n",
    "        cell_magnitudes = magnitude[i:i+cell_size, j:j+cell_size]\n",
    "        cell_orientations = orientation[i:i+cell_size, j:j+cell_size]\n",
    "\n",
    "        # Create histogram for this cell\n",
    "        hist = np.zeros(orient_bins)\n",
    "        for x in range(cell_size):\n",
    "            for y in range(cell_size):\n",
    "                bin_idx = int(cell_orientations[x, y] // (180 / orient_bins))  # Bin index\n",
    "                hist[bin_idx] += cell_magnitudes[x, y]  # Weighted by magnitude\n",
    "\n",
    "        # Store max orientation in hog_image for visualization\n",
    "        max_orient = np.argmax(hist)\n",
    "        hog_image[i:i+cell_size, j:j+cell_size] = (max_orient + 1) * (255 / orient_bins)\n",
    "\n",
    "# Step 4: Normalize the HOG image (for better visualization)\n",
    "hog_image = (hog_image - hog_image.min()) / (hog_image.max() - hog_image.min()) * 255\n",
    "\n",
    "# Step 5: Plot the original and HOG images\n",
    "fig, (ax1, ax2) = plt.subplots(1, 2, figsize=(8, 4))\n",
    "\n",
    "ax1.imshow(image, cmap='gray')\n",
    "ax1.set_title(\"Original Image\")\n",
    "ax1.axis(\"off\")\n",
    "\n",
    "ax2.imshow(hog_image, cmap='gray')\n",
    "ax2.set_title(\"HOG Visualization\")\n",
    "ax2.axis(\"off\")\n",
    "\n",
    "plt.show()\n"
   ]
  }
 ],
 "metadata": {
  "kernelspec": {
   "display_name": "Python 3",
   "language": "python",
   "name": "python3"
  },
  "language_info": {
   "codemirror_mode": {
    "name": "ipython",
    "version": 3
   },
   "file_extension": ".py",
   "mimetype": "text/x-python",
   "name": "python",
   "nbconvert_exporter": "python",
   "pygments_lexer": "ipython3",
   "version": "3.9.13"
  }
 },
 "nbformat": 4,
 "nbformat_minor": 2
}
